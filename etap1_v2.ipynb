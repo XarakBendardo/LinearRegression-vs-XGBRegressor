{
      "cells": [
            {
                  "cell_type": "markdown",
                  "metadata": {},
                  "source": [
                        "## Problem biznesowy  \n",
                        "\n",
                        "**Opis zadania**: “Nasz serwis zarabia wtedy, gdy ludzie słuchają muzyki. Jeśli nie wiemy ile czasu będą słuchali jej w przyszłości, to trudno nam rozliczać się z artystami i negocjować z nimi stawki”\n",
                        "\n",
                        "### definicja problemu biznesowego\n",
                        "1. Obecna sytuacja: Nie umiemy oszacować czasu słuchania artystów, a tym samym zysków, które przyniosą naszemu serwisowi. Utrudnia to rozliczanie i negocjowanie stawek.\n",
                        "2. Chcemy wprowadzić system szacowania czasu słuchania poszczególnych artystów, który:\n",
                        "    - analizując dane zebrane na temat artystów będzie szacował czas ich słuchania przez użytkowników\n",
                        "    - będzie przedstawiał tę informację w formie czytelnej dla człowkieka, np. w postaci krótkiego tekstu/tabelki\n",
                        "\n",
                        "### definicja zadania/zadań modelowania\n",
                        "- Należy zaprojektować model predykcyjny, aproksymujący czas słuchania danego artysty przez użytkowników na podstawie danych o artystach, użytownikach i słuchanych przez nich utworach\n",
                        "- Dane do modelowania:\n",
                        "    - Dane o artystach (gatunek muzyczny)\n",
                        "    - Dane o utworach (częstość i daty przesłuchań, czas trwania, liczba polubień/pominięć)\n",
                        "\n",
                        "### definicja wszystkich założeń\n",
                        "- Model będzie realizować predykcje w skali miesiąca (na miesiąc w przód)\n",
                        "- Zadanie będzie realizowane przez model regresji (regresja liniowa/las losowy)\n",
                        "- Model będzie trenowany na dostępnych danych offline\n",
                        "\n",
                        "### zaproponowane kryteria sukcesu\n",
                        "- Biznesowe: Różnica w przewidywaniach modelu, a faktycznym czasem słuchania danego artysty nie przekracza 20% w stosunku do rzeczywistej wartości\n",
                        "- Analityczne: Takie samo, jak biznesowe osiągnięte na danych offline\n"
                  ]
            },
            {
                  "cell_type": "markdown",
                  "metadata": {},
                  "source": [
                        "## Uwagi do poprzedniej wersji danych:\n",
                        "1. Ogólne\n",
                        "    - Dużo błędów w danych - przykład: znaki typu \\0 w imionach/nazwach, -1 w id artystów\n",
                        "    - Braki w danych - wartości typu null  \n",
                        "    - Bardzo mało danych dotyczących użytkowników w porównaniu do pozostałych\n",
                        "2. artists\n",
                        "    - id\n",
                        "        - Duża liczba niewłaściwych pól = -1 (aż 20%)\n",
                        "        - Pozostałe wartości są unikalne, brak pustych pól\n",
                        "    - name\n",
                        "        - Dużo błędów w nazwach artystów - 11% zawiera kodowanie binarne\n",
                        "        - Nie wszystkie pola są unikalne - około 30 wartości się powtarza maksymalnie 4 razy\n",
                        "    - genres\n",
                        "        - 20% pól jest pustych\n",
                        "        - niektóre gatunki są rozdzielane przecinkami, inne nie - następuje pewna niespójność\n",
                        "        - pytanie czy nie lepiej zastosować kodowanie wskaźnikowe? tzn. utworzyć atrybuty typu _classic, thai, pop_ o kodowaniu binarnym (0/1)\n",
                        "3. sessions:\n",
                        "    - timestamp\n",
                        "        - brak błędów i braków w danych\n",
                        "        - dużo mniej danych z pierwszych 7 miesięcy niż z ostatnich 3\n",
                        "    - user_id\n",
                        "        - 20% pól jest pustych \n",
                        "        - dość nierównomiernie rozłożone - ponad 2tys danych dla niektórych użytkowników, mniej niż 200 dla innych\n",
                        "    - track_id\n",
                        "        - 20% pól jest pustych\n",
                        "    - event_type\n",
                        "        - brak błędów w danych\n",
                        "        - 20% pól jest pustych\n",
                        "    - session_id\n",
                        "        - brak błędów i braków w danych\n",
                        "4. tracks\n",
                        "    - id\n",
                        "        - 20% pól pustych\n",
                        "        - reszta pól unikalna\n",
                        "    - name\n",
                        "        - 20% pól pustych\n",
                        "        - 19% zawiera kodowanie binarne\n",
                        "    - popularity, duration_ms, explicit i release_date\n",
                        "        - brak pustych pól i błędów\n",
                        "    - id_artist\n",
                        "        - 20% pól pustych \n",
                        "5. users\n",
                        "    - id\n",
                        "        - zupełnie przypadkowy i niepotrzebny atrybut\n",
                        "    - favourite_genres\n",
                        "        - 14 z 50 pól pustych"
                  ]
            },
            {
                  "cell_type": "markdown",
                  "metadata": {},
                  "source": [
                        "## Analiza danych   \n",
                        "\n"
                  ]
            },
            {
                  "cell_type": "markdown",
                  "metadata": {},
                  "source": [
                        "**Potrzebne pakiety**"
                  ]
            },
            {
                  "cell_type": "code",
                  "execution_count": 2,
                  "metadata": {},
                  "outputs": [],
                  "source": [
                        "import pandas as pd"
                  ]
            },
            {
                  "cell_type": "markdown",
                  "metadata": {},
                  "source": [
                        "### Artists"
                  ]
            },
            {
                  "cell_type": "code",
                  "execution_count": 3,
                  "metadata": {},
                  "outputs": [
                        {
                              "name": "stdout",
                              "output_type": "stream",
                              "text": [
                                    "Ogólny opis danych:\n",
                                    " \t liczba pól: 27650 \n",
                                    "                             id   name            genres\n",
                                    "count                    27650  27650             27650\n",
                                    "unique                   27650  27542             13704\n",
                                    "top     72578usTM6Cj5qWsi471Nc    TNT  [indonesian pop]\n",
                                    "freq                         1      4                74 \n",
                                    "\n",
                                    "Liczba pustych pól genres:  0 \n",
                                    "\n"
                              ]
                        }
                  ],
                  "source": [
                        "jsonl_file_path_artists = 'data/IUM23Z_Zad_06_01_v2/artists.jsonl'\n",
                        "df_artists = pd.read_json(jsonl_file_path_artists, lines=True)\n",
                        "print(\"Ogólny opis danych:\\n\", \"\\t liczba pól:\", len(df_artists), \"\\n\", df_artists.describe(), \"\\n\")\n",
                        "print(\"Liczba pustych pól genres: \", df_artists[\"genres\"].isnull().sum(), \"\\n\")\n"
                  ]
            },
            {
                  "cell_type": "markdown",
                  "metadata": {},
                  "source": [
                        "**Uwagi i problemy**:\n",
                        "- Już nie ma pustych pól w atrybucie genres\n",
                        "- Już id przybiera właściwe wartości (nie ma błędów możliwych do wykrycia)\n",
                        "- Id: jest unikalnym atrybutem dyskretnym reprezentującym artystę, powinno wskazać nam, że dane się nie powtarzają -  tzn. kolejne rekordy dotyczą innych osób - pytanie czy to prawda, jako że atrybut \"name\" się czasem powtarza.   \n",
                        "- Genres: jest atrybutem dyskretnym, reprezentującym gatunki muzyczne. Jest to atrybut \"wektorowy\". Dane trzeba dostosować - na przykład zakodować wskaźnikowo (dorobić atrybuty binarne typu 'pop', 'rock')\n",
                        "  \n",
                        "\n",
                        "    \n",
                        "### Sessions"
                  ]
            },
            {
                  "cell_type": "code",
                  "execution_count": 4,
                  "metadata": {},
                  "outputs": [
                        {
                              "name": "stdout",
                              "output_type": "stream",
                              "text": [
                                    "Ogólny opis danych:\n",
                                    " \t liczba pól: 557423 \n",
                                    "\n",
                                    "Ogólny opis atrybutu timestamp:\n",
                                    " count                           557423\n",
                                    "mean     2023-08-12 08:44:42.970913280\n",
                                    "min         2023-01-16 15:37:42.148516\n",
                                    "25%      2023-06-19 14:48:45.506822144\n",
                                    "50%      2023-08-22 14:32:56.496897024\n",
                                    "75%      2023-10-14 03:02:55.748079104\n",
                                    "max         2023-11-27 00:46:08.247335\n",
                                    "Name: timestamp, dtype: object \n",
                                    "\n",
                                    "Liczba wartości user_id: \n",
                                    " 50 \n",
                                    "\n",
                                    "Wartości przybierane przez event_type: \n",
                                    " event_type\n",
                                    "play             306279\n",
                                    "skip             126494\n",
                                    "like              91647\n",
                                    "advertisement     32969\n",
                                    "buy_premium          34\n",
                                    "Name: count, dtype: int64 \n",
                                    "\n",
                                    "Liczba pustych pól track_id (null i pustych stringów):  33003 \n",
                                    "\n",
                                    "Liczba rekordów gdzie jednocześnie track_id było puste i event_type nie był równy 'advertisement' lub 'buy_premium':  0 \n",
                                    "\n",
                                    "Najczęściej przybierane 3 wartości przez track_id: \n",
                                    " track_id\n",
                                    "7FdUvDkaE24o3FPIWTvzv2    1704\n",
                                    "58pgi1RpcU2fVJsxhm7BIr    1675\n",
                                    "08mG3Y1vljYA6bvDt4Wqkj    1671\n",
                                    "Name: count, dtype: int64 \n",
                                    "\n",
                                    "Najrzadziej przybierane 3 wartości przez track_id: \n",
                                    " track_id\n",
                                    "4z7OCDAAIZxfzQ6qyUSx1O    8\n",
                                    "0zw5bUUdOxVLBGMsb0SuBh    7\n",
                                    "2LMq1O0NiqGhPOlXo3McYQ    6\n",
                                    "Name: count, dtype: int64 \n",
                                    "\n",
                                    "Ogólny opis session_id:\n",
                                    " liczba niepustych pól:557423\n"
                              ]
                        }
                  ],
                  "source": [
                        "jsonl_file_path_sessions = 'data/IUM23Z_Zad_06_01_v2/sessions.jsonl'\n",
                        "df_sessions = pd.read_json(jsonl_file_path_sessions, lines=True)\n",
                        "print(\"Ogólny opis danych:\\n\", \"\\t liczba pól:\", len(df_sessions), \"\\n\")\n",
                        "print(\"Ogólny opis atrybutu timestamp:\\n\", df_sessions[\"timestamp\"].describe(), \"\\n\")\n",
                        "cleaned_df_sessions = df_sessions[\"user_id\"].dropna().astype(str)\n",
                        "print(\"Liczba wartości user_id: \\n\", len(cleaned_df_sessions.unique()), \"\\n\")\n",
                        "print(\"Wartości przybierane przez event_type: \\n\", df_sessions[\"event_type\"].value_counts(dropna=False), \"\\n\")\n",
                        "print(\"Liczba pustych pól track_id (null i pustych stringów): \", df_sessions[\"track_id\"].isnull().sum() + (df_sessions[\"track_id\"] == \"\").sum(), \"\\n\")\n",
                        "print(\"Liczba rekordów gdzie jednocześnie track_id było puste i event_type nie był równy 'advertisement' lub 'buy_premium': \", df_sessions[\"track_id\"][(df_sessions[\"track_id\"] == \"\") & (df_sessions[\"event_type\"] != \"advertisement\") & (df_sessions[\"event_type\"] != \"buy_premium\")].count(), \"\\n\")\n",
                        "cleaned_df_sessions = df_sessions[\"track_id\"][df_sessions[\"track_id\"] != \"\"].dropna()\n",
                        "print(\"Najczęściej przybierane 3 wartości przez track_id: \\n\", cleaned_df_sessions.value_counts()[:3], \"\\n\")\n",
                        "print(\"Najrzadziej przybierane 3 wartości przez track_id: \\n\", cleaned_df_sessions.value_counts()[-3:], \"\\n\")\n",
                        "session_description = df_sessions[\"session_id\"].describe()\n",
                        "print(f\"Ogólny opis session_id:\\n liczba niepustych pól:{int(session_description['count'])}\")\n"
                  ]
            },
            {
                  "cell_type": "markdown",
                  "metadata": {},
                  "source": [
                        "**Uwagi i problemy**\n",
                        "\n",
                        "- Nadal dużo mniej danych z pierwszych 7 miesięcy niż z ostatnich 3.\n",
                        "- To, track_id jest często puste nie jest problemem. Występuje to tylko w rekordach rejestrujących reklamę lub zakup konta premium - te rekordy nie mają dla nas znaczenia i można je potem usunąć.\n",
                        "- Mamy dane tylko dla 50 użytkowników co będzie problemem, skoro z serwisu korzysta 200 tys.\n",
                        "- \"Niezbalansowane\" track_id jest dobre - wskazuje, jakie utwory są bardziej popularne \n"
                  ]
            },
            {
                  "cell_type": "markdown",
                  "metadata": {},
                  "source": [
                        "### Tracks\n"
                  ]
            },
            {
                  "cell_type": "code",
                  "execution_count": 5,
                  "metadata": {},
                  "outputs": [
                        {
                              "name": "stdout",
                              "output_type": "stream",
                              "text": [
                                    "Ogólny opis danych:\n",
                                    " \t liczba pól: 129648 \n",
                                    "\n",
                                    "Opis id: \n",
                                    " \tLiczba pól:  129648 \n",
                                    "\tLiczba unikalnych wartości:  129648 \n",
                                    "\n",
                                    "Opis popularity: \n",
                                    " \ttyp: dyskretny porządkowy\n",
                                    "\tmax:  97 \n",
                                    "\tmin:  0 \n",
                                    "\tśrednia:  29.70743860298655 \n",
                                    "\tmediana:  29 \n",
                                    "\n",
                                    "Opis duration_ms: \n",
                                    " \ttyp: na razie dyskretny\n",
                                    " count     129648\n",
                                    "mean      228169\n",
                                    "std       109372\n",
                                    "min         4000\n",
                                    "25%       177400\n",
                                    "50%       216787\n",
                                    "75%       263267\n",
                                    "max      4027622\n",
                                    "Name: duration_ms, dtype: Int64 \n",
                                    "\n",
                                    "Opis release_date: \n",
                                    " \ttyp: dyskretny porządkowy\n",
                                    "\tmax:  2021-04-16 \n",
                                    "\tmin:  1922 \n",
                                    "\tliczba dat w formacie 'YYYY':  29162 \n",
                                    "\tliczba dat w formacie 'YYYY-MM':  621 \n",
                                    "\tliczba dat w formacie 'YYYY-MM-DD':  99865 \n",
                                    "\n",
                                    "Opis id_artist: \n",
                                    "\ttyp: dyskretny\n",
                                    " count                     129648\n",
                                    "unique                     27650\n",
                                    "top       3meJIgRw7YleJrmbpbJK6S\n",
                                    "freq                        1185\n",
                                    "Name: id_artist, dtype: object \n",
                                    "liczba artist_id występująca tylko raz:  12065 \n",
                                    "\n"
                              ]
                        }
                  ],
                  "source": [
                        "jsonl_file_path_tracks = 'data/IUM23Z_Zad_06_01_v2/tracks.jsonl'\n",
                        "df_tracks = pd.read_json(jsonl_file_path_tracks, lines=True)\n",
                        "df_tracks[\"duration_ms\"] = df_tracks[\"duration_ms\"].astype('Int64')\n",
                        "df_tracks[\"popularity\"] = df_tracks[\"popularity\"].astype('Int64')\n",
                        "print(\"Ogólny opis danych:\\n\", \"\\t liczba pól:\", len(df_tracks), \"\\n\")\n",
                        "print(\"Opis id: \\n\", \"\\tLiczba pól: \", df_tracks[\"id\"].count(), \"\\n\\tLiczba unikalnych wartości: \", len(df_tracks[\"id\"].unique()), \"\\n\")\n",
                        "print(\"Opis popularity: \\n\", \"\\ttyp: dyskretny porządkowy\\n\\tmax: \", (df_tracks[\"popularity\"].max()), \"\\n\\tmin: \", (df_tracks[\"popularity\"].min()), \"\\n\\tśrednia: \", df_tracks[\"popularity\"].mean(), \"\\n\\tmediana: \", int(df_tracks[\"popularity\"].median()), \"\\n\")\n",
                        "print(\"Opis duration_ms: \\n\", \"\\ttyp: na razie dyskretny\\n\", df_tracks[\"duration_ms\"].describe().astype('Int64'), \"\\n\")\n",
                        "print(\"Opis release_date: \\n\", \"\\ttyp: dyskretny porządkowy\\n\\tmax: \", df_tracks[\"release_date\"].max(), \"\\n\\tmin: \", \n",
                        "      df_tracks[\"release_date\"].min(), \"\\n\\tliczba dat w formacie 'YYYY': \", df_tracks['release_date'].str.count(r'^\\d{4}$').sum() ,\n",
                        "      \"\\n\\tliczba dat w formacie 'YYYY-MM': \", df_tracks['release_date'].str.count(r'^\\d{4}-\\d{2}$').sum(), \n",
                        "      \"\\n\\tliczba dat w formacie 'YYYY-MM-DD': \", df_tracks['release_date'].str.count(r'^\\d{4}-\\d{2}-\\d{2}$').sum(), \"\\n\")\n",
                        "print(\"Opis id_artist: \\n\\ttyp: dyskretny\\n\", df_tracks[\"id_artist\"].describe(), \"\\nliczba artist_id występująca tylko raz: \", df_tracks[\"id_artist\"].value_counts()[df_tracks[\"id_artist\"].value_counts() == 1].count(), \"\\n\")"
                  ]
            },
            {
                  "cell_type": "markdown",
                  "metadata": {},
                  "source": [
                        "**Uwagi i problemy**\n",
                        "- atrybut id wskazuje na to, że rekordy \"są unikalne\" - dotyczą jednej piosenki\n",
                        "- atrybut name nie powinien nam być potrzebny. To, że nie jest unikalny to nie jest problem - wiele piosenek może mieć tę samą nazwę\n",
                        "- atrybut popularity - typ dyskretny porządkowy, będzie na pewno bardzo ważnym atrybutem, wydaje się być poprawny - należy dopytać co oznacza\n",
                        "- atrybut duration_ms - typ dyskretny, będzie na pewno bardzo ważnym atrybutem, wydaje się być poprawny, ze względu na ilość można by zmienić na atrybut ciągły\n",
                        "- atrybut id_artist - typ dyskretny, wskazuje konkrentego artystę (łączy z plikiem \"artists.jsonl\"), może być problem z tym, że niektórzy artyści mają tylko 1 utwór"
                  ]
            },
            {
                  "cell_type": "markdown",
                  "metadata": {},
                  "source": [
                        "### Dokładniejsza analiza\n",
                        "Korelacja liniowa i korelacja Spearmana między popularity danego utworu/liczbą polubień a czasem słuchania z ostatnich x dni (nwm ile tu dni, wszystkie?)"
                  ]
            },
            {
                  "cell_type": "code",
                  "execution_count": 41,
                  "metadata": {},
                  "outputs": [],
                  "source": [
                        "def korelacja_liniowa(a, b):\n",
                        "    n = len(a)\n",
                        "    sum_a = sum(a)\n",
                        "    sum_b = sum(b)\n",
                        "    sum_a_squared = sum([x**2 for x in a])\n",
                        "    sum_b_squared = sum([x**2 for x in b])\n",
                        "    sum_product = sum(x * y for x, y in zip(a, b))\n",
                        "    correlation = (n * sum_product - sum_a * sum_b) /((n * sum_a_squared - sum_a ** 2) * (n * sum_b_squared - sum_b ** 2)) ** 0.5\n",
                        "    return correlation\n",
                        "\n",
                        "def korelacja_Spearmana(a, b):\n",
                        "    a_ranks = [sorted(range(len(a)), key=lambda k: a[k]), [0] * len(a)]\n",
                        "    b_ranks = [sorted(range(len(b)), key=lambda k: b[k]), [0] * len(b)]\n",
                        "    for i in range(len(a)):\n",
                        "        a_ranks[1][a_ranks[0][i]] = i + 1\n",
                        "    for i in range(len(b)):\n",
                        "        b_ranks[1][b_ranks[0][i]] = i + 1\n",
                        "    rank_diff = [r1 - r2 for r1, r2 in zip(a_ranks[1], b_ranks[1])]\n",
                        "    n = len(a)\n",
                        "    spearman_correlation1 = 1 - (6 * sum([d ** 2 for d in rank_diff]) / (n * (n ** 2 - 1)))\n",
                        "    return spearman_correlation1"
                  ]
            },
            {
                  "cell_type": "code",
                  "execution_count": 45,
                  "metadata": {},
                  "outputs": [
                        {
                              "name": "stdout",
                              "output_type": "stream",
                              "text": [
                                    "Korelacja liniowa między 'popularity' a 'time_played': 0.10190578696040166\n",
                                    "Korelacja liniowa między 'likes' a 'time_played': 0.9662332899881354\n",
                                    "Korelacja liniowa między 'duration_ms' a 'time_played': 0.018048553825130452\n",
                                    "Korelacja liniowa między 'play_without_skip' a 'time_played': 0.9733269341670152\n",
                                    "Korelacja liniowa między 'play_with_skip' a 'time_played': 0.6740716048989647\n",
                                    "Korelacja liniowa między 'just_play' a 'time_played': 0.9749719112512834\n",
                                    "Korelacja Spearmana między 'popularity' a 'time_played': 0.07095980212453656\n",
                                    "Korelacja Spearmana między 'likes' a 'time_played': 0.9986313146707618\n",
                                    "Korelacja Spearmana między 'duration_ms' a 'time_played': 0.039799311978347185\n",
                                    "Korelacja Spearmana między 'play_without_skip' a 'time_played': 0.991233956778948\n",
                                    "Korelacja Spearmana między 'play_with_skip' a 'time_played': 0.9993854274180308\n",
                                    "Korelacja Spearmana między 'just_play' a 'time_played': 0.9998102093638994\n"
                              ]
                        }
                  ],
                  "source": [
                        "from datetime import timedelta\n",
                        "now = df_sessions[\"timestamp\"].max()\n",
                        "track_full_info= df_tracks.set_index('id')[['popularity', 'duration_ms', 'id_artist']].to_dict(orient='index')\n",
                        "\n",
                        "# oblicznaie czasu odtwarzania i liczby polubień dla każdego utworu w ciągu ostatnich 30 dni\n",
                        "for _, value in track_full_info.items():\n",
                        "    value['time_played'] = 0\n",
                        "    value['likes'] = 0\n",
                        "    value['play_without_skip'] = 0\n",
                        "    value['play_with_skip'] = 0\n",
                        "    value['just_play'] = 0\n",
                        "sessions = df_sessions[ (df_sessions['timestamp'] > now - timedelta(days=600)) & (df_sessions['event_type'].isin(['play', 'skip', 'like']))].sort_values(by=['session_id', 'timestamp']).to_dict(orient='records')\n",
                        "index = 0\n",
                        "while index < len(sessions):\n",
                        "    session = sessions[index]\n",
                        "    next_index = index + 1\n",
                        "    if session['event_type'] == 'play':\n",
                        "        track_full_info[session['track_id']]['just_play'] += 1\n",
                        "        if next_index < len(sessions) and sessions[next_index]['session_id'] == session['session_id'] and sessions[next_index]['event_type'] == 'skip':\n",
                        "            track_full_info[session['track_id']]['time_played'] += (sessions[next_index]['timestamp'] - session['timestamp']).total_seconds()*1000\n",
                        "            track_full_info[session['track_id']]['play_with_skip'] += 1\n",
                        "            next_index += 1\n",
                        "        elif next_index < len(sessions) and sessions[next_index]['track_id'] == session['track_id'] and sessions[next_index]['event_type'] == 'like':\n",
                        "            track_full_info[session['track_id']]['likes'] += 1\n",
                        "            next_index += 1\n",
                        "        else:\n",
                        "            track_full_info[session['track_id']]['time_played'] += track_full_info[session['track_id']]['duration_ms'] \n",
                        "            track_full_info[session['track_id']]['play_without_skip'] += 1\n",
                        "    index = next_index\n",
                        "    \n",
                        "#korelacje\n",
                        "\n",
                        "popularity_values = [value['popularity'] for value in track_full_info.values()]\n",
                        "czas_values = [value['time_played'] for value in track_full_info.values()]\n",
                        "likes_values = [value['likes'] for value in track_full_info.values()]   \n",
                        "duration_values = [value['duration_ms'] for value in track_full_info.values()]\n",
                        "play_whithout_skip_values = [value['play_without_skip'] for value in track_full_info.values()]\n",
                        "play_with_skip_values = [value['play_with_skip'] for value in track_full_info.values()]\n",
                        "just_play_values = [value['just_play'] for value in track_full_info.values()]\n",
                        "\n",
                        "print(f\"Korelacja liniowa między 'popularity' a 'time_played': {korelacja_liniowa(popularity_values, czas_values)}\")\n",
                        "print(f\"Korelacja liniowa między 'likes' a 'time_played': {korelacja_liniowa(czas_values, likes_values)}\")\n",
                        "print(f\"Korelacja liniowa między 'duration_ms' a 'time_played': {korelacja_liniowa(czas_values, duration_values)}\")\n",
                        "print(f\"Korelacja liniowa między 'play_without_skip' a 'time_played': {korelacja_liniowa(czas_values, play_whithout_skip_values)}\")\n",
                        "print(f\"Korelacja liniowa między 'play_with_skip' a 'time_played': {korelacja_liniowa(czas_values, play_with_skip_values)}\")\n",
                        "print(f\"Korelacja liniowa między 'just_play' a 'time_played': {korelacja_liniowa(czas_values, just_play_values)}\")\n",
                        "print(f\"Korelacja Spearmana między 'popularity' a 'time_played': {korelacja_Spearmana(popularity_values, czas_values)}\")\n",
                        "print(f\"Korelacja Spearmana między 'likes' a 'time_played': {korelacja_Spearmana(czas_values, likes_values)}\")\n",
                        "print(f\"Korelacja Spearmana między 'duration_ms' a 'time_played': {korelacja_Spearmana(czas_values, duration_values)}\")\n",
                        "print(f\"Korelacja Spearmana między 'play_without_skip' a 'time_played': {korelacja_Spearmana(czas_values, play_whithout_skip_values)}\")\n",
                        "print(f\"Korelacja Spearmana między 'play_with_skip' a 'time_played': {korelacja_Spearmana(czas_values, play_with_skip_values)}\")\n",
                        "print(f\"Korelacja Spearmana między 'just_play' a 'time_played': {korelacja_Spearmana(czas_values, just_play_values)}\")\n"
                  ]
            },
            {
                  "cell_type": "markdown",
                  "metadata": {},
                  "source": [
                        "Możemy stwierdzić że jest mała zależność liniowa między popularity a time_played, bardzo mała między duration_ms a time_played, ale jest bardzo duża między likes a time_played.  \n",
                        "Oznacza to, że mamy dużą zależność liniową między likes atime_played.   \n",
                        "Oddzielnie sprawdziliśmy korelację liniową między likes a popularity - wynosiła ok. 0.07 dla Spearmana i 0.1 dla liniowej.  "
                  ]
            },
            {
                  "cell_type": "code",
                  "execution_count": 46,
                  "metadata": {},
                  "outputs": [
                        {
                              "name": "stdout",
                              "output_type": "stream",
                              "text": [
                                    "Korelacja liniowa między 'likes' a 'time_played': 0.9674999136228105\n",
                                    "Korelacja liniowa między 'popularity' a 'time_played': 0.08382151130371548\n",
                                    "Korelacja liniowa między 'play_without_skip' a 'time_played': 0.926956165016368\n",
                                    "Korelacja liniowa między 'play_with_skip' a 'time_played': 0.7524897303233525\n",
                                    "Korelacja liniowa między 'just_play' a 'time_played': 0.9807054195626872\n",
                                    "Korelacja Spearmana między 'likes' a 'time_played': 0.9999993351036148\n",
                                    "Korelacja Spearmana między 'popularity' a 'time_played': 0.15085110034414728\n",
                                    "Korelacja Spearmana między 'play_without_skip' a 'time_played': 0.9996562296512925\n",
                                    "Korelacja Spearmana między 'play_with_skip' a 'time_played': 0.9999976118571586\n",
                                    "Korelacja Spearmana między 'just_play' a 'time_played': 0.9999996904780064\n"
                              ]
                        }
                  ],
                  "source": [
                        "artists_full_info = df_artists.set_index('id')[['genres']].to_dict(orient='index')\n",
                        "for _, value in artists_full_info.items():\n",
                        "    value['time_played'] = 0\n",
                        "    value['likes'] = 0\n",
                        "    value['popularity_sum'] = 0\n",
                        "    value['popularity_number'] = 0\n",
                        "    value['play_with_skip'] = 0\n",
                        "    value['play_without_skip'] = 0\n",
                        "    value['just_play'] = 0\n",
                        "for key, value in track_full_info.items():\n",
                        "    artists_full_info[value['id_artist']]['time_played'] += value['time_played']\n",
                        "    artists_full_info[value['id_artist']]['likes'] += value['likes']\n",
                        "    artists_full_info[value['id_artist']]['popularity_sum'] += value['popularity']\n",
                        "    artists_full_info[value['id_artist']]['popularity_number'] += 1\n",
                        "    artists_full_info[value['id_artist']]['play_with_skip'] += value['play_with_skip']\n",
                        "    artists_full_info[value['id_artist']]['play_without_skip'] += value['play_without_skip']\n",
                        "    artists_full_info[value['id_artist']]['just_play'] += value['just_play']\n",
                        "for _, value in artists_full_info.items():\n",
                        "    value['popularity_avg'] = value['popularity_sum'] / value['popularity_number']\n",
                        "\n",
                        "#korelacje \n",
                        "czas_values = [value['time_played'] for value in artists_full_info.values()]\n",
                        "likes_values = [value['likes'] for value in artists_full_info.values()]\n",
                        "popularity_values = [value['popularity_avg'] for value in artists_full_info.values()]\n",
                        "play_with_skip_values = [value['play_with_skip'] for value in artists_full_info.values()]\n",
                        "play_without_skip_values = [value['play_without_skip'] for value in artists_full_info.values()]\n",
                        "just_play_values = [value['just_play'] for value in artists_full_info.values()]\n",
                        "print(f\"Korelacja liniowa między 'likes' a 'time_played': {korelacja_liniowa(czas_values, likes_values)}\")\n",
                        "print(f\"Korelacja liniowa między 'popularity' a 'time_played': {korelacja_liniowa(czas_values, popularity_values)}\")\n",
                        "print(f\"Korelacja liniowa między 'play_without_skip' a 'time_played': {korelacja_liniowa(czas_values, play_without_skip_values)}\")\n",
                        "print(f\"Korelacja liniowa między 'play_with_skip' a 'time_played': {korelacja_liniowa(czas_values, play_with_skip_values)}\")\n",
                        "print(f\"Korelacja liniowa między 'just_play' a 'time_played': {korelacja_liniowa(czas_values, just_play_values)}\")\n",
                        "print(f\"Korelacja Spearmana między 'likes' a 'time_played': {korelacja_Spearmana(czas_values, likes_values)}\")\n",
                        "print(f\"Korelacja Spearmana między 'popularity' a 'time_played': {korelacja_Spearmana(czas_values, popularity_values)}\")\n",
                        "print(f\"Korelacja Spearmana między 'play_without_skip' a 'time_played': {korelacja_Spearmana(czas_values, play_without_skip_values)}\")\n",
                        "print(f\"Korelacja Spearmana między 'play_with_skip' a 'time_played': {korelacja_Spearmana(czas_values, play_with_skip_values)}\")\n",
                        "print(f\"Korelacja Spearmana między 'just_play' a 'time_played': {korelacja_Spearmana(czas_values, just_play_values)}\")\n",
                        "\n"
                  ]
            },
            {
                  "cell_type": "markdown",
                  "metadata": {},
                  "source": [
                        "### Dane potrzebne do zadania - konkretne:\n",
                        "- artists   \n",
                        "    - id - pozwala połączyć z innymi tabelami\n",
                        "    - genres - bo niektóre gatunki są częściej słuchane niż inne\n",
                        "- sessions\n",
                        "    - session_id - do obliczania czasu przesłuchania\n",
                        "    - timestamp - wskazuje kiedy coś się działo, dodatkowo ważne jeśli podejdziemy do zadania jako do zadania analizy szeregów czasowych.\n",
                        "    - track_id - pozwala połączyć z innymi tabelami\n",
                        "    - event_type - wskazuje ważne dla nas zdarzenia, w procesie uczenia nie będziemy brali pod uwagę zdarzeń: 'advertisement' i 'buy_premium'\n",
                        "        - like - utwór polubiony, zapewne będzie często jeszcze słuchany\n",
                        "        - play + skip - utwór się jednak nie podoba\n",
                        "        - play bez skip - cały utwór przesłuchany, podobał się \n",
                        "- tracks\n",
                        "    - id - pozwala połączyć z innymi tabelami\n",
                        "    - popularity - im popularniejszy tym częściej słuchane\n",
                        "    - duration_ms - im dłuższy utwór tym dłuższy czas słuchania\n",
                        "    - release_date - czasem stare utwory nie są już popularne\n",
                        "    \n",
                        "\n",
                        "### Dane niepotrzebne do zadania:\n",
                        "- artists\n",
                        "    - name\n",
                        "- track_storage\n",
                        "    - informacje o cache'u, niepotrzebne nam\n",
                        "- sessions\n",
                        "    - session_id\n",
                        "    - user_id\n",
                        "- users\n",
                        "    - nie ma potrzeby wiedzieć kto co słucha tylko co jest słuchane\n",
                        "- tracks\n",
                        "    - name - nic nie wskazuje\n",
                        "    - explicit, key, danceability, ... <- to raczej do przypisywania do konkretnych gatunków, co nie jest naszym zadaniem\n"
                  ]
            }
      ],
      "metadata": {
            "kernelspec": {
                  "display_name": "Python 3",
                  "language": "python",
                  "name": "python3"
            },
            "language_info": {
                  "codemirror_mode": {
                        "name": "ipython",
                        "version": 3
                  },
                  "file_extension": ".py",
                  "mimetype": "text/x-python",
                  "name": "python",
                  "nbconvert_exporter": "python",
                  "pygments_lexer": "ipython3",
                  "version": "3.11.6"
            }
      },
      "nbformat": 4,
      "nbformat_minor": 2
}
